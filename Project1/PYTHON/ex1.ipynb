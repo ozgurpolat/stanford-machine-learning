{
 "cells": [
  {
   "cell_type": "markdown",
   "metadata": {},
   "source": [
    "# Table of Contents<br>\n",
    "Linear Regression:<br>\n",
    "    Files needed for this exercise<br>\n",
    "    Before you begin<br>\n",
    "1. A simple MATLAB function<br>\n",
    "    1.1 Submitting Solutions<br>\n",
    "2. Linear regression with one variable<br>\n",
    "    2.1 Plotting the data<br>\n",
    "    2.2 Gradient Descent<br>\n",
    "        2.2.1 Update Equations<br>\n",
    "        2.2.2 Implementation<br>\n",
    "        2.2.3 Computing the cost<br>\n",
    "        2.2.4 Gradient descent<br>\n",
    "    2.3 Debugging<br>\n",
    "    2.4 Visualizing<br>\n",
    "    \n",
    "Optional Exercises:<br>\n",
    "3. Linear regression with multiple variables<br>\n",
    "    3.1 Feature Normalization<br>\n",
    "    3.2 Gradient Descent<br>\n",
    "        3.2.1 Optional (ungraded) exercise: Selecting learning rates<br>\n",
    "    3.3 Normal Equations<br>"
   ]
  },
  {
   "cell_type": "markdown",
   "metadata": {},
   "source": [
    "# Linear Regression"
   ]
  },
  {
   "cell_type": "markdown",
   "metadata": {},
   "source": [
    "## 1. A simple MATLAB function<br>\n",
    "The first part of this script gives you practice with MATLAB syntax and the homework submission process. In the file warmUpExercise.m, you will find the outline of a MATLAB function. Modify it to return a 5 x 5 identity matrix by filling in the following code:<br>\n",
    "\n",
    "  A = eye(5);<br>\n",
    "  \n",
    "    When you are finished, save warmUpExercise.m, then run the code contained in this section to call warmUpExercise().<br>\n",
    "    \n",
    "    5x5 Identity Matrix:<br>"
   ]
  },
  {
   "cell_type": "code",
   "execution_count": 49,
   "metadata": {},
   "outputs": [],
   "source": [
    "import numpy as np\n",
    "def warmUpExercise(n):\n",
    "    imatrix = np.identity(n)\n",
    "    return imatrix"
   ]
  },
  {
   "cell_type": "code",
   "execution_count": 50,
   "metadata": {},
   "outputs": [
    {
     "name": "stdout",
     "output_type": "stream",
     "text": [
      "[[1. 0. 0. 0. 0.]\n",
      " [0. 1. 0. 0. 0.]\n",
      " [0. 0. 1. 0. 0.]\n",
      " [0. 0. 0. 1. 0.]\n",
      " [0. 0. 0. 0. 1.]]\n"
     ]
    }
   ],
   "source": [
    "imatrix = warmUpExercise(5)\n",
    "print(imatrix)"
   ]
  },
  {
   "cell_type": "markdown",
   "metadata": {},
   "source": [
    "## 2. Linear regression with one variable\n",
    "\n",
    "In this part of this exercise, you will implement linear regression with one variable to predict profits for a food truck. Suppose you are the CEO of a restaurant franchise and are considering different cities for opening a new outlet. The chain already has trucks in various cities and you have data for profits and populations from the cities. You would like to use this data to help you select which city to expand to next.\n",
    "The file ex1data1.txt contains the dataset for our linear regression problem. The first column is the population of a city and the second column is the profit of a food truck in that city. A negative value for profit indicates a loss. This script has already been set up to load this data for you.\n",
    "\n",
    "### 2.1 Plotting the data\n",
    "\n",
    "Before starting on any task, it is often useful to understand the data by visualizing it. For this dataset, you can use a scatter plot to visualize the data, since it has only two properties to plot (profit and population). Many other problems that you will encounter in real life are multi-dimensional and can't be plotted on a 2-d plot.\n",
    "Run the code below to load the dataset from the data file into the variables X and y:"
   ]
  },
  {
   "cell_type": "code",
   "execution_count": 51,
   "metadata": {},
   "outputs": [],
   "source": [
    "def plotData(X, y):\n",
    "    plt.figure()\n",
    "    plt.plot(X,y,'x',linewidth=0)\n",
    "    plt.title('Profit vs. Population')\n",
    "    plt.ylabel('Profit in $10,000s')\n",
    "    plt.xlabel('Population of City in 10,000s') "
   ]
  },
  {
   "cell_type": "code",
   "execution_count": 52,
   "metadata": {},
   "outputs": [
    {
     "data": {
      "image/png": "[encoded data removed]",
      "text/plain": [
       "<Figure size 432x288 with 1 Axes>"
      ]
     },
     "metadata": {
      "needs_background": "light"
     },
     "output_type": "display_data"
    }
   ],
   "source": [
    "data = genfromtxt('ex1data1.txt', delimiter=',') # read comma separated data\n",
    "X=data[:,0]\n",
    "y=data[:,1]\n",
    "plotData(X, y)"
   ]
  },
  {
   "cell_type": "markdown",
   "metadata": {},
   "source": [
    "### 2.2 Gradient Descent<br>\n",
    "\n",
    "In this section, you will fit the linear regression parameters to our dataset using gradient descent.\n",
    "\n",
    "#### 2.2.1 Update Equations<br>\n",
    "\n",
    "The objective of linear regression is to minimize the cost function\n"
   ]
  },
  {
   "cell_type": "code",
   "execution_count": 53,
   "metadata": {},
   "outputs": [
    {
     "data": {
      "text/latex": [
       "$\\displaystyle \\frac{1}{2m}\\sum_{m=1}^{\\infty} (h_\\theta(x^{(i)})-y^{(i)})^{2}$"
      ],
      "text/plain": [
       "<IPython.core.display.Math object>"
      ]
     },
     "metadata": {},
     "output_type": "display_data"
    }
   ],
   "source": [
    "from IPython.display import display, Math, Latex\n",
    "display(Math(r'$$\\frac{1}{2m}\\sum_{m=1}^{\\infty} (h_\\theta(x^{(i)})-y^{(i)})^{2}$$'))"
   ]
  },
  {
   "cell_type": "markdown",
   "metadata": {},
   "source": [
    "where the hypothesis  is given by the linear model"
   ]
  },
  {
   "cell_type": "code",
   "execution_count": 54,
   "metadata": {},
   "outputs": [
    {
     "data": {
      "text/latex": [
       "$\\displaystyle h_\\theta(x)=\\theta^{T}x=\\theta_0+\\theta_1x_1$"
      ],
      "text/plain": [
       "<IPython.core.display.Math object>"
      ]
     },
     "metadata": {},
     "output_type": "display_data"
    }
   ],
   "source": [
    "from IPython.display import display, Math, Latex\n",
    "display(Math(r'$$h_\\theta(x)=\\theta^{T}x=\\theta_0+\\theta_1x_1$$'))"
   ]
  },
  {
   "cell_type": "markdown",
   "metadata": {},
   "source": [
    "Recall that the parameters of your model are the  values. These are the values you will adjust to minimize cost . One way to do this is to use the batch gradient descent algorithm. In batch gradient descent, each iteration performs the update\n",
    "\n",
    "With each step of gradient descent, your parameters  come closer to the optimal values that will achieve the lowest cost .\n",
    "\n",
    "**Implementation Note:** We store each example as a row in the the X matrix in MATLAB. To take into account the intercept term (), we add an additional first column to X and set it to all ones. This allows us to treat  as simply another 'feature'.\n",
    "\n",
    "### 2.2.2 Implementation<br>\n",
    "In this script, we have already set up the data for linear regression. In the following lines, we add another dimension to our data to accommodate the  intercept term. Run the code below to initialize the parameters to 0 and the learning rate alpha to 0.01. "
   ]
  },
  {
   "cell_type": "code",
   "execution_count": 56,
   "metadata": {},
   "outputs": [
    {
     "name": "stdout",
     "output_type": "stream",
     "text": [
      "97\n"
     ]
    }
   ],
   "source": [
    "m = len(X)\n",
    "print(m)"
   ]
  },
  {
   "cell_type": "code",
   "execution_count": 74,
   "metadata": {},
   "outputs": [
    {
     "name": "stdout",
     "output_type": "stream",
     "text": [
      "[[1.     6.1101]\n",
      " [1.     5.5277]\n",
      " [1.     8.5186]\n",
      " [1.     7.0032]\n",
      " [1.     5.8598]]\n",
      "...\n",
      "[0, 0]\n",
      "1500\n",
      "0.01\n"
     ]
    }
   ],
   "source": [
    "X_ii = np.column_stack((np.ones(m), X)) # Add a column of ones to x\n",
    "theta = [0, 0] # initialize fitting parameters\n",
    "iterations = 1500;\n",
    "alpha = 0.01;\n",
    "print(X_ii[:5, :2])\n",
    "print(\"...\")\n",
    "print(theta)\n",
    "print(iterations)\n",
    "print(alpha)"
   ]
  },
  {
   "cell_type": "markdown",
   "metadata": {},
   "source": [
    "#### 2.2.3 Computing the cost \n",
    "As you perform gradient descent to minimize the cost function , it is helpful to monitor the convergence by computing the cost. In this section, you will implement a function to calculate  so you can check the convergence of your gradient descent implementation.\n",
    "    Your next task is to complete the code in the file computeCost.m, which is a function that computes . As you are doing this, remember that the variables X and y are not scalar values, but matrices whose rows represent the examples from the training set.\n",
    "    Once you have completed the function definition, run this section. The code below will call computeCost once using  initialized to zeros, and you will see the cost printed to the screen. You should expect to see a cost of 32.07."
   ]
  },
  {
   "cell_type": "code",
   "execution_count": 82,
   "metadata": {},
   "outputs": [],
   "source": [
    "def computeCost(X_ii, y, theta):\n",
    "    m = len(y)\n",
    "    J = 0\n",
    "      \n",
    "    Hx = X_ii.dot(theta)\n",
    "    J = sum((Hx-y)**2)/(2*m)\n",
    "    \n",
    "    return J"
   ]
  },
  {
   "cell_type": "code",
   "execution_count": 85,
   "metadata": {},
   "outputs": [
    {
     "data": {
      "text/plain": [
       "32.072733877455654"
      ]
     },
     "execution_count": 85,
     "metadata": {},
     "output_type": "execute_result"
    }
   ],
   "source": [
    "# Compute and display initial cost\n",
    "computeCost(X_ii, y, theta)"
   ]
  },
  {
   "cell_type": "markdown",
   "metadata": {},
   "source": [
    "#### 2.2.4 Gradient descent\n",
    "Next, you will implement gradient descent in the file gradientDescent.m. The loop structure has been written for you, and you only need to supply the updates to  within each iteration.\n",
    "    As you program, make sure you understand what you are trying to optimize and what is being updated. Keep in mind that the cost  is parameterized by the vector , not  and . That is, we minimize the value of  by changing the values of the vector , not by changing  or . Refer to the equations given earlier and to the video lectures if you are uncertain.\n",
    "A good way to verify that gradient descent is working correctly is to look at the value of J and check that it is decreasing with each step. The starter code for gradientDescent.m calls computeCost on every iteration and prints the cost. Assuming you have implemented gradient descent and computeCost correctly, your value of  should never increase, and should converge to a steady value by the end of the algorithm.\n",
    "    After you are finished, run this execute this section. The code below will use your final parameters to plot the linear fit. The result should look something like Figure 2 below:"
   ]
  },
  {
   "cell_type": "code",
   "execution_count": 86,
   "metadata": {},
   "outputs": [],
   "source": [
    "def gradientDescent(X_ii, y, theta, alpha, num_iters):\n",
    "\n",
    "    m = len(y)\n",
    "    J_history = np.zeros(num_iters)\n",
    "    \n",
    "    for iter in range(0, len(J_history)):\n",
    "        \n",
    "        theta = theta - (alpha * (X_ii.transpose() * ((X_ii.dot(theta)-y)/m))).sum(axis = 1)\n",
    "        \n",
    "        J_history[iter] = computeCost(X_ii, y, theta)  \n",
    "    \n",
    "    return [theta, J_history]"
   ]
  },
  {
   "cell_type": "code",
   "execution_count": 87,
   "metadata": {},
   "outputs": [
    {
     "name": "stderr",
     "output_type": "stream",
     "text": [
      "C:\\ProgramData\\Anaconda3\\lib\\site-packages\\ipykernel_launcher.py:25: DeprecationWarning: object of type <class 'float'> cannot be safely interpreted as an integer.\n"
     ]
    },
    {
     "data": {
      "image/png": "[encoded data removed]",
      "text/plain": [
       "<Figure size 432x288 with 1 Axes>"
      ]
     },
     "metadata": {
      "needs_background": "light"
     },
     "output_type": "display_data"
    },
    {
     "name": "stdout",
     "output_type": "stream",
     "text": [
      "theta =  [-3.63029144  1.16636235]\n"
     ]
    },
    {
     "data": {
      "image/png": "[encoded data removed]",
      "text/plain": [
       "<Figure size 432x288 with 1 Axes>"
      ]
     },
     "metadata": {
      "needs_background": "light"
     },
     "output_type": "display_data"
    },
    {
     "name": "stdout",
     "output_type": "stream",
     "text": [
      "J_history =  [6.73719046 5.93159357 5.90115471 ... 4.48343473 4.48341145 4.48338826]\n"
     ]
    }
   ],
   "source": [
    "from numpy import genfromtxt, ones\n",
    "import numpy as np\n",
    "from matplotlib import pyplot as plt\n",
    "\n",
    "def main():\n",
    "    \n",
    "    data = genfromtxt('ex1data1.txt', delimiter=',')\n",
    "    X=data[:,0]\n",
    "    y=data[:,1]\n",
    "    theta = [0, 0]\n",
    "    num_iters = 1500\n",
    "    alpha = 0.01\n",
    "    m = len(y)\n",
    "    X_ii = np.column_stack((np.ones(m), X))\n",
    "    J_historyX = list(range(0, 1500))\n",
    "    \n",
    "    plt.figure()\n",
    "    plt.plot(X,y,'x',linewidth=0)\n",
    "    plt.title('Profit vs. Population')\n",
    "    plt.ylabel('Profit in $10,000s')\n",
    "    plt.xlabel('Population of City in 10,000s')\n",
    "    \n",
    "    theta, J_history = gradientDescent(X_ii, y, theta, alpha, num_iters)\n",
    "     \n",
    "    x = np.linspace(5,22.5,2.5)\n",
    "    y = x*theta[1]+theta[0]\n",
    "    plt.plot(x, y, '-r', label='y=2x+1')\n",
    "    plt.show()\n",
    "    print(\"theta = \", theta)\n",
    "       \n",
    "    plt.figure()\n",
    "    plt.plot(J_historyX, J_history,'r-')\n",
    "    plt.title('Cost Function History')\n",
    "    plt.xlabel('Iteration Number')\n",
    "    plt.ylabel('Cost')\n",
    "    plt.show()\n",
    "    print(\"J_history = \" , J_history)\n",
    "    \n",
    "if __name__ == '__main__':\n",
    "    main()"
   ]
  }
 ],
 "metadata": {
  "kernelspec": {
   "display_name": "Python 3",
   "language": "python",
   "name": "python3"
  },
  "language_info": {
   "codemirror_mode": {
    "name": "ipython",
    "version": 3
   },
   "file_extension": ".py",
   "mimetype": "text/x-python",
   "name": "python",
   "nbconvert_exporter": "python",
   "pygments_lexer": "ipython3",
   "version": "3.7.4"
  }
 },
 "nbformat": 4,
 "nbformat_minor": 2
}
